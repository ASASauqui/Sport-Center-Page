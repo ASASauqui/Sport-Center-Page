{
 "cells": [
  {
   "cell_type": "markdown",
   "metadata": {},
   "source": [
    "# Librerías"
   ]
  },
  {
   "cell_type": "code",
   "execution_count": 35,
   "metadata": {},
   "outputs": [],
   "source": [
    "import requests\n",
    "import csv\n",
    "import json"
   ]
  },
  {
   "cell_type": "markdown",
   "metadata": {},
   "source": [
    "# Head"
   ]
  },
  {
   "cell_type": "code",
   "execution_count": 36,
   "metadata": {},
   "outputs": [
    {
     "name": "stdout",
     "output_type": "stream",
     "text": [
      "['idTeam', 'strTeam', 'strTeamShort', 'strAlternate', 'intFormedYear', 'strSport', 'strLeague', 'idLeague', 'strLeague2', 'idLeague2', 'strLeague3', 'idLeague3', 'strLeague4', 'idLeague4', 'strLeague5', 'idLeague5', 'strLeague6', 'idLeague6', 'strLeague7', 'idLeague7', 'strDivision', 'strManager', 'strStadium', 'strKeywords', 'strRSS', 'strStadiumThumb', 'strStadiumDescription', 'strStadiumLocation', 'intStadiumCapacity', 'strWebsite', 'strFacebook', 'strTwitter', 'strInstagram', 'strDescriptionEN', 'strDescriptionES', 'strGender', 'strCountry', 'strTeamBadge', 'strTeamJersey', 'strTeamLogo', 'strTeamFanart1', 'strTeamFanart2', 'strTeamFanart3', 'strTeamFanart4', 'strTeamBanner', 'idPais']\n"
     ]
    },
    {
     "data": {
      "text/plain": [
       "['idTeam',\n",
       " 'strTeam',\n",
       " 'strTeamShort',\n",
       " 'strAlternate',\n",
       " 'intFormedYear',\n",
       " 'strSport',\n",
       " 'strLeague',\n",
       " 'idLeague',\n",
       " 'strLeague2',\n",
       " 'idLeague2',\n",
       " 'strLeague3',\n",
       " 'idLeague3',\n",
       " 'strLeague4',\n",
       " 'idLeague4',\n",
       " 'strLeague5',\n",
       " 'idLeague5',\n",
       " 'strLeague6',\n",
       " 'idLeague6',\n",
       " 'strLeague7',\n",
       " 'idLeague7',\n",
       " 'strDivision',\n",
       " 'strManager',\n",
       " 'strStadium',\n",
       " 'strKeywords',\n",
       " 'strRSS',\n",
       " 'strStadiumThumb',\n",
       " 'strStadiumDescription',\n",
       " 'strStadiumLocation',\n",
       " 'intStadiumCapacity',\n",
       " 'strWebsite',\n",
       " 'strFacebook',\n",
       " 'strTwitter',\n",
       " 'strInstagram',\n",
       " 'strDescriptionEN',\n",
       " 'strDescriptionES',\n",
       " 'strGender',\n",
       " 'strCountry',\n",
       " 'strTeamBadge',\n",
       " 'strTeamJersey',\n",
       " 'strTeamLogo',\n",
       " 'strTeamFanart1',\n",
       " 'strTeamFanart2',\n",
       " 'strTeamFanart3',\n",
       " 'strTeamFanart4',\n",
       " 'strTeamBanner',\n",
       " 'idPais']"
      ]
     },
     "execution_count": 36,
     "metadata": {},
     "output_type": "execute_result"
    }
   ],
   "source": [
    "with open('Equipos.csv','r', newline ='', encoding=\"utf-16\") as csvfile:\n",
    "    r = csv.reader(csvfile, delimiter='\\t')\n",
    "    data = list(r)\n",
    "    data[0].append('idPais')\n",
    "    \n",
    "    print(data[0])\n",
    "    \n",
    "    \n",
    "csvfile.close()\n",
    "    \n",
    "    \n",
    "with open(\"nuevosEquipos.csv\", \"a\", newline='', encoding=\"utf-16\") as csvfile1:\n",
    "    wr = csv.writer(csvfile1,  delimiter='\\t', dialect = 'excel')\n",
    "    wr.writerow(data[0])\n",
    "    \n",
    "csvfile1.close() \n",
    "\n",
    "data.pop(0)"
   ]
  },
  {
   "cell_type": "markdown",
   "metadata": {},
   "source": [
    "# Datos del Excel"
   ]
  },
  {
   "cell_type": "code",
   "execution_count": 37,
   "metadata": {},
   "outputs": [],
   "source": [
    "# Paises\n",
    "with open('Libro1Paises.csv','r', newline ='') as csvfile:\n",
    "    r = csv.reader(csvfile, delimiter=',')\n",
    "    paises = list(r)\n",
    "    paises.pop(0)\n",
    "    \n",
    "    for row in data:\n",
    "        row[36] = row[36].replace('\\t', '')\n",
    "        row[36] = row[36].replace('\\n', '')\n",
    "        row[36] = row[36].replace('\\\"', '')\n",
    "    \n",
    "        \n",
    "    for row in data:\n",
    "        for i in paises:\n",
    "            if row[36] == i[1]:\n",
    "                row.append(i[0])\n",
    "                break\n",
    "    \n",
    "csvfile.close()\n",
    "\n",
    "\n",
    "with open(\"nuevosEquipos.csv\", \"a\", newline='', encoding=\"utf-16\") as csvfile1:\n",
    "    wr = csv.writer(csvfile1,  delimiter='\\t', dialect = 'excel')\n",
    "    \n",
    "    for row in data:\n",
    "         wr.writerow(row)\n",
    "\n",
    "csvfile1.close() "
   ]
  },
  {
   "cell_type": "code",
   "execution_count": null,
   "metadata": {},
   "outputs": [],
   "source": []
  }
 ],
 "metadata": {
  "kernelspec": {
   "display_name": "Python 3",
   "language": "python",
   "name": "python3"
  },
  "language_info": {
   "codemirror_mode": {
    "name": "ipython",
    "version": 3
   },
   "file_extension": ".py",
   "mimetype": "text/x-python",
   "name": "python",
   "nbconvert_exporter": "python",
   "pygments_lexer": "ipython3",
   "version": "3.8.3"
  }
 },
 "nbformat": 4,
 "nbformat_minor": 4
}
