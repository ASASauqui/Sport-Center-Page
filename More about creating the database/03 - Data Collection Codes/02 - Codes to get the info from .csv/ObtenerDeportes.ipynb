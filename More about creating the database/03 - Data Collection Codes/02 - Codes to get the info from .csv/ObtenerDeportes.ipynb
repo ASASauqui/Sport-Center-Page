{
 "cells": [
  {
   "cell_type": "markdown",
   "metadata": {},
   "source": [
    "# Librerías"
   ]
  },
  {
   "cell_type": "code",
   "execution_count": 3,
   "metadata": {},
   "outputs": [],
   "source": [
    "import requests\n",
    "import csv\n",
    "import json"
   ]
  },
  {
   "cell_type": "markdown",
   "metadata": {},
   "source": [
    "# Datos del Excel"
   ]
  },
  {
   "cell_type": "code",
   "execution_count": 4,
   "metadata": {},
   "outputs": [],
   "source": [
    "with open('Libro2Deportes.csv','r', newline ='') as csvfile:\n",
    "    r = csv.reader(csvfile, delimiter=',')\n",
    "    deportes = list(r)\n",
    "csvfile.close() \n",
    "\n",
    "\n",
    "with open(\"nuevosDeportes.csv\", \"a\", newline='', encoding=\"utf-16\") as csvfile1:\n",
    "    wr = csv.writer(csvfile1,  delimiter='\\t', dialect = 'excel')\n",
    "    \n",
    "    for row in deportes:\n",
    "         wr.writerow(row)\n",
    "\n",
    "csvfile1.close() "
   ]
  },
  {
   "cell_type": "code",
   "execution_count": null,
   "metadata": {},
   "outputs": [],
   "source": []
  }
 ],
 "metadata": {
  "kernelspec": {
   "display_name": "Python 3",
   "language": "python",
   "name": "python3"
  },
  "language_info": {
   "codemirror_mode": {
    "name": "ipython",
    "version": 3
   },
   "file_extension": ".py",
   "mimetype": "text/x-python",
   "name": "python",
   "nbconvert_exporter": "python",
   "pygments_lexer": "ipython3",
   "version": "3.8.3"
  }
 },
 "nbformat": 4,
 "nbformat_minor": 4
}
